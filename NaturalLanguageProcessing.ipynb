{
  "cells": [
    {
      "cell_type": "markdown",
      "metadata": {
        "id": "VwK5-9FIB-lu"
      },
      "source": [
        "# Natural Language Processing"
      ]
    },
    {
      "cell_type": "markdown",
      "metadata": {
        "id": "X1kiO9kACE6s"
      },
      "source": [
        "## Importing the libraries"
      ]
    },
    {
      "cell_type": "code",
      "source": [
        "from google.colab import files"
      ],
      "metadata": {
        "id": "ig70jxQzimRA"
      },
      "execution_count": 1,
      "outputs": []
    },
    {
      "cell_type": "code",
      "source": [
        "files.upload()"
      ],
      "metadata": {
        "id": "a0amtyU7QD_u"
      },
      "execution_count": null,
      "outputs": []
    },
    {
      "cell_type": "code",
      "execution_count": 3,
      "metadata": {
        "id": "7QG7sxmoCIvN"
      },
      "outputs": [],
      "source": [
        "import numpy as np\n",
        "import matplotlib.pyplot as plt\n",
        "%matplotlib inline\n",
        "import pandas as pd\n",
        "import seaborn as sns"
      ]
    },
    {
      "cell_type": "markdown",
      "metadata": {
        "id": "wTfaCIzdCLPA"
      },
      "source": [
        "## Importing the dataset"
      ]
    },
    {
      "cell_type": "code",
      "source": [
        "dataset = pd.read_csv('Restaurant_Reviews.tsv', delimiter='\\t', quoting=3)"
      ],
      "metadata": {
        "id": "ViyvNIiRiOoQ"
      },
      "execution_count": 5,
      "outputs": []
    },
    {
      "cell_type": "markdown",
      "source": [
        "## **NAIVE BAYES MODEL**"
      ],
      "metadata": {
        "id": "0HndJWmqfh8r"
      }
    },
    {
      "cell_type": "markdown",
      "metadata": {
        "id": "Qekztq71CixT"
      },
      "source": [
        "## Cleaning the texts"
      ]
    },
    {
      "cell_type": "code",
      "execution_count": 6,
      "metadata": {
        "id": "8u_yXh9dCmEE",
        "colab": {
          "base_uri": "https://localhost:8080/"
        },
        "outputId": "b2a12216-c70e-4d3d-8970-779c65e16231"
      },
      "outputs": [
        {
          "output_type": "stream",
          "name": "stderr",
          "text": [
            "[nltk_data] Downloading package stopwords to /root/nltk_data...\n",
            "[nltk_data]   Package stopwords is already up-to-date!\n"
          ]
        }
      ],
      "source": [
        "import re\n",
        "import nltk\n",
        "nltk.download('stopwords')\n",
        "from nltk.corpus import stopwords\n",
        "from nltk.stem.porter import PorterStemmer\n",
        "corpus = []\n",
        "for i in range(0, 1000):\n",
        "    review = re.sub('[^a-zA-Z]', ' ', dataset['Review'][i])\n",
        "    review = review.lower()\n",
        "    review = review.split()\n",
        "    ps = PorterStemmer()\n",
        "    stop_words = stopwords.words('english')\n",
        "    stop_words.remove('not')\n",
        "    review = [ps.stem(word) for word in review if not word in set(stop_words)]\n",
        "    review = ' '.join(review)\n",
        "    corpus.append(review)"
      ]
    },
    {
      "cell_type": "markdown",
      "metadata": {
        "id": "CLqmAkANCp1-"
      },
      "source": [
        "## Creating the Bag of Words model"
      ]
    },
    {
      "cell_type": "code",
      "execution_count": 7,
      "metadata": {
        "id": "qroF7XcSCvY3"
      },
      "outputs": [],
      "source": [
        "from sklearn.feature_extraction.text import CountVectorizer\n",
        "cv = CountVectorizer(max_features = 205)\n",
        "X = cv.fit_transform(corpus).toarray()\n",
        "y = dataset.iloc[:, 1].values"
      ]
    },
    {
      "cell_type": "markdown",
      "source": [
        "# Splitting the dataset into Training set and Test set"
      ],
      "metadata": {
        "id": "lqcRc7hDFrev"
      }
    },
    {
      "cell_type": "code",
      "source": [
        "from sklearn.model_selection import train_test_split\n",
        "X_train, X_test, y_train, y_test = train_test_split(X, y, test_size = 0.20, random_state = 46)"
      ],
      "metadata": {
        "id": "_FCiqjwNF3tA"
      },
      "execution_count": 8,
      "outputs": []
    },
    {
      "cell_type": "markdown",
      "metadata": {
        "id": "VkIq23vEDIPt"
      },
      "source": [
        "## Training the Naive Bayes model on the Training set"
      ]
    },
    {
      "cell_type": "code",
      "execution_count": 14,
      "metadata": {
        "colab": {
          "base_uri": "https://localhost:8080/"
        },
        "id": "DS9oiDXXDRdI",
        "outputId": "68025e82-d8b5-4755-c61f-f3f69b85331e"
      },
      "outputs": [
        {
          "output_type": "stream",
          "name": "stdout",
          "text": [
            "for alpha = 0.1 model accuracy is 79.50%\n",
            "for alpha = 0.2 model accuracy is 79.00%\n",
            "for alpha = 0.3 model accuracy is 79.00%\n",
            "for alpha = 0.4 model accuracy is 79.00%\n",
            "for alpha = 0.5 model accuracy is 79.00%\n",
            "for alpha = 0.6 model accuracy is 79.50%\n",
            "for alpha = 0.7 model accuracy is 81.00%\n",
            "for alpha = 0.8 model accuracy is 81.50%\n",
            "for alpha = 0.9 model accuracy is 81.50%\n",
            "for alpha = 1.0 model accuracy is 81.50%\n"
          ]
        }
      ],
      "source": [
        "# demonstrates the use of scikit-learn to train Multi-NomialMB classifier on your text data and evaluate its performance us\n",
        "from sklearn.naive_bayes import MultinomialNB\n",
        "from sklearn.metrics import accuracy_score\n",
        "\n",
        "# Train the model using the training set\n",
        "best_model = None\n",
        "best_test_accuracy = 0\n",
        "alpha = 0\n",
        "for i in [float(x) / 10 for x in range(1, 11)]:\n",
        "\n",
        "  # Define the model\n",
        "  classifier =MultinomialNB(alpha = i)\n",
        "\n",
        "  # fit the model\n",
        "  classifier.fit(X_train, y_train)\n",
        "\n",
        "  # Make predictions on the test set\n",
        "  y_pred = classifier.predict(X_test)\n",
        "\n",
        "  # finding test accuracy of the model\n",
        "  test_accuracy = accuracy_score(y_test, y_pred) * 100\n",
        "  if test_accuracy > best_test_accuracy:\n",
        "    best_test_accuracy = test_accuracy\n",
        "    alpha = i\n",
        "    best_model = classifier\n",
        "  print(\"for alpha = {} model accuracy is {:.2f}%\".format(i, test_accuracy))"
      ]
    },
    {
      "cell_type": "markdown",
      "source": [
        "# predicting Test and Train set"
      ],
      "metadata": {
        "id": "sISYJa8Ie-wL"
      }
    },
    {
      "cell_type": "code",
      "execution_count": 15,
      "metadata": {
        "id": "6BLxpuktSLJW"
      },
      "outputs": [],
      "source": [
        "# Make predictions on the training set\n",
        "y_train_pred = best_model.predict(X_train)\n",
        "\n",
        "# Make predictions on the testing set\n",
        "y_pred = best_model.predict(X_test)"
      ]
    },
    {
      "cell_type": "markdown",
      "metadata": {
        "id": "Xq7jJm1FZzom"
      },
      "source": [
        "## Making the Confusion Matrix"
      ]
    },
    {
      "cell_type": "code",
      "execution_count": 16,
      "metadata": {
        "colab": {
          "base_uri": "https://localhost:8080/"
        },
        "outputId": "0fe89899-5db7-486a-83bc-0b7a03a5b0d0",
        "id": "IRUSMcxTSROF"
      },
      "outputs": [
        {
          "output_type": "stream",
          "name": "stdout",
          "text": [
            "confusion matrix for training set:\n",
            " [[353  53]\n",
            " [ 83 311]]\n",
            "confusion matrix for testing set:\n",
            " [[77 17]\n",
            " [20 86]]\n",
            "training data accuracy: 83.00%:\n",
            "testing data accuracy: 81.50%\n",
            "precision score: 83.50%\n",
            "recall score: 81.13%\n",
            "difference: 1.50%\n"
          ]
        }
      ],
      "source": [
        "from sklearn.metrics import confusion_matrix, precision_score, recall_score\n",
        "# confusion matrix of y_test and y_pred\n",
        "cm = confusion_matrix(y_test, y_pred)\n",
        "\n",
        "# confusion matrix of y_train and y_train_pred\n",
        "cm_train = confusion_matrix(y_train, y_train_pred)\n",
        "\n",
        "# finding test accuracy\n",
        "test_accuracy = accuracy_score(y_test, y_pred)*100\n",
        "\n",
        "# finding train accuracy\n",
        "train_accuracy = accuracy_score(y_train, y_train_pred)*100\n",
        "\n",
        "# finding precision score of the model\n",
        "precision = precision_score(y_test, y_pred)*100\n",
        "\n",
        "# finding recall score of the model\n",
        "recall = recall_score(y_test, y_pred)* 100\n",
        "print(\"confusion matrix for training set:\\n\", cm_train)\n",
        "print(\"confusion matrix for testing set:\\n\", cm)\n",
        "print(\"training data accuracy: {:.2f}%:\".format(train_accuracy))\n",
        "print(\"testing data accuracy: {:.2f}%\".format(test_accuracy))\n",
        "print(\"precision score: {:.2f}%\".format(precision))\n",
        "print(\"recall score: {:.2f}%\".format(recall))\n",
        "print(\"difference: {:.2f}%\".format(train_accuracy - test_accuracy))\n"
      ]
    },
    {
      "cell_type": "markdown",
      "source": [
        "# Predicting unseen data"
      ],
      "metadata": {
        "id": "xq_4_ScJfFF5"
      }
    },
    {
      "cell_type": "code",
      "source": [
        "# predicting new unseen data\n",
        "new_review = 'not that good'\n",
        "new_review = re.sub('[^a-zA-Z]', ' ', new_review)\n",
        "new_review = new_review.lower()\n",
        "new_review = new_review.split()\n",
        "ps = PorterStemmer()\n",
        "all_stopwords = stopwords.words('english')\n",
        "all_stopwords.remove('not')\n",
        "new_review = [ps.stem(word) for word in new_review if not word in set(all_stopwords)]\n",
        "new_review = ' '.join(new_review)\n",
        "new_corpus = [new_review]\n",
        "new_X_test = cv.transform(new_corpus).toarray()\n",
        "new_y_pred = best_model.predict(new_X_test)\n",
        "print(new_y_pred)"
      ],
      "metadata": {
        "colab": {
          "base_uri": "https://localhost:8080/"
        },
        "id": "mQPRfwZiL_of",
        "outputId": "52ea2674-4145-4be3-946f-5b54dfa8900b"
      },
      "execution_count": 17,
      "outputs": [
        {
          "output_type": "stream",
          "name": "stdout",
          "text": [
            "[0]\n"
          ]
        }
      ]
    },
    {
      "cell_type": "markdown",
      "source": [
        "# Visualization"
      ],
      "metadata": {
        "id": "6Uw4GxCmZ4CJ"
      }
    },
    {
      "cell_type": "code",
      "source": [
        "# ploting the confusion matrix of training data\n",
        "plt.figure(figsize = (6, 3))\n",
        "sns.heatmap(cm_train, annot = True, cmap = \"BuPu\", xticklabels = ['Negative', 'Positive'], yticklabels = ['negative', 'Positive'])\n",
        "plt.xlabel('predicted value')\n",
        "plt.ylabel('actual value')"
      ],
      "metadata": {
        "colab": {
          "base_uri": "https://localhost:8080/",
          "height": 331
        },
        "outputId": "f4451a0e-fa60-4833-c9d6-ff4a57e572a9",
        "id": "8EBZ5TLCYGvy"
      },
      "execution_count": null,
      "outputs": [
        {
          "output_type": "execute_result",
          "data": {
            "text/plain": [
              "Text(45.722222222222214, 0.5, 'actual value')"
            ]
          },
          "metadata": {},
          "execution_count": 179
        },
        {
          "output_type": "display_data",
          "data": {
            "text/plain": [
              "<Figure size 600x300 with 2 Axes>"
            ],
            "image/png": "[encoded data removed]"
          },
          "metadata": {}
        }
      ]
    },
    {
      "cell_type": "code",
      "source": [
        "# plotting confusion matrix of test data\n",
        "plt.figure(figsize = (6, 3))\n",
        "sns.heatmap(cm, annot = True, cmap = \"BuPu\", xticklabels = ['Negative', 'Positive'], yticklabels = ['negative', 'Positive'])\n",
        "plt.xlabel('predicted value')\n",
        "plt.ylabel('actual value')\n"
      ],
      "metadata": {
        "colab": {
          "base_uri": "https://localhost:8080/",
          "height": 328
        },
        "outputId": "20a01fb7-86dc-4617-8561-3be19129fb02",
        "id": "c20sQVF0YALK"
      },
      "execution_count": null,
      "outputs": [
        {
          "output_type": "execute_result",
          "data": {
            "text/plain": [
              "Text(45.722222222222214, 0.5, 'actual value')"
            ]
          },
          "metadata": {},
          "execution_count": 180
        },
        {
          "output_type": "display_data",
          "data": {
            "text/plain": [
              "<Figure size 600x300 with 2 Axes>"
            ],
            "image/png": "[encoded data removed]"
          },
          "metadata": {}
        }
      ]
    },
    {
      "cell_type": "markdown",
      "source": [
        "## **SVC** **MODEL**"
      ],
      "metadata": {
        "id": "niH3RrBRfuBM"
      }
    },
    {
      "cell_type": "markdown",
      "source": [
        "# Cleaning the data"
      ],
      "metadata": {
        "id": "NLYiLYx2XMij"
      }
    },
    {
      "cell_type": "code",
      "source": [
        "import re\n",
        "import nltk\n",
        "nltk.download('stopwords')\n",
        "from nltk.corpus import stopwords\n",
        "from nltk.stem.porter import PorterStemmer\n",
        "corpus = []\n",
        "for i in range(0, 1000):\n",
        "    review = re.sub('[^a-zA-Z]', ' ', dataset['Review'][i])\n",
        "    review = review.lower()\n",
        "    review = review.split()\n",
        "    ps = PorterStemmer()\n",
        "    stop_words = stopwords.words('english')\n",
        "    review = [ps.stem(word) for word in review if not word in set(stop_words)]\n",
        "    review = ' '.join(review)\n",
        "    corpus.append(review)"
      ],
      "metadata": {
        "colab": {
          "base_uri": "https://localhost:8080/"
        },
        "id": "5_EIwT8TU0yn",
        "outputId": "ab85a0e9-cfd2-4122-ff92-2259894e69f2"
      },
      "execution_count": null,
      "outputs": [
        {
          "output_type": "stream",
          "name": "stderr",
          "text": [
            "[nltk_data] Downloading package stopwords to /root/nltk_data...\n",
            "[nltk_data]   Package stopwords is already up-to-date!\n"
          ]
        }
      ]
    },
    {
      "cell_type": "markdown",
      "source": [
        "# Creating the bag of words"
      ],
      "metadata": {
        "id": "pw10rZoGXUHT"
      }
    },
    {
      "cell_type": "code",
      "source": [
        "from sklearn.feature_extraction.text import CountVectorizer\n",
        "cv = CountVectorizer(max_features = 100)\n",
        "X = cv.fit_transform(corpus).toarray()\n",
        "y = dataset.iloc[:, 1].values"
      ],
      "metadata": {
        "id": "WiSe6lQCWDGV"
      },
      "execution_count": null,
      "outputs": []
    },
    {
      "cell_type": "markdown",
      "metadata": {
        "id": "J0d_QSfkZMYg"
      },
      "source": [
        "## Splitting the dataset into the Training set and Test set"
      ]
    },
    {
      "cell_type": "code",
      "execution_count": null,
      "metadata": {
        "id": "qQXYM5VzDDDI"
      },
      "outputs": [],
      "source": [
        "from sklearn.model_selection import train_test_split\n",
        "X_train, X_test, y_train, y_test = train_test_split(X, y, test_size = 0.20, random_state = 1)"
      ]
    },
    {
      "cell_type": "markdown",
      "source": [
        "# Training the svc model on training set"
      ],
      "metadata": {
        "id": "8SnC88kSFXY9"
      }
    },
    {
      "cell_type": "code",
      "source": [
        "# Import necessary libraries\n",
        "from sklearn.model_selection import GridSearchCV\n",
        "from sklearn.svm import SVC\n",
        "from sklearn.metrics import confusion_matrix, accuracy_score, precision_score, recall_score\n",
        "# Define the model\n",
        "\n",
        "model = SVC()\n",
        "\n",
        "# Define the hyperparameters to tune\n",
        "param_grid = {'C': [0.1, 1, 10], 'kernel': ['linear', 'rbf']}\n",
        "\n",
        "# Perform GridSearchCV to find the best hyperparameters\n",
        "grid_search = GridSearchCV(estimator=model, param_grid=param_grid, cv=5)\n",
        "grid_search.fit(X_train, y_train)\n",
        "\n",
        "# Use the best model obtained from GridSearchCV\n",
        "model = grid_search.best_estimator_\n",
        "\n",
        "# Train the model using the training set\n",
        "model.fit(X_train, y_train)\n",
        "\n",
        "# Make predictions on the training set\n",
        "y_train_pred = model.predict(X_train)\n",
        "\n",
        "# Calculate the training accuracy\n",
        "training_accuracy = accuracy_score(y_train, y_train_pred)\n",
        "\n",
        "# Make predictions on the testing set\n",
        "y_test_pred = model.predict(X_test)\n",
        "\n",
        "# Calculate the testing accuracy\n",
        "testing_accuracy = accuracy_score(y_test, y_test_pred)\n",
        "precision = precision_score(y_test, y_test_pred)\n",
        "recall = recall_score(y_test, y_test_pred)\n",
        "# Print the training and testing accuracies\n",
        "print(f\"Training Accuracy: {training_accuracy * 100:.2f}%\")\n",
        "print(f\"Testing Accuracy: {testing_accuracy * 100:.2f}%\")\n",
        "print(f\"Precision score: {precision*100:.2f}%\")\n",
        "print(f\"recall score: {recall*100:.2f}%\")"
      ],
      "metadata": {
        "colab": {
          "base_uri": "https://localhost:8080/"
        },
        "outputId": "6ced8c1d-1755-4bdf-cba7-51aab2c844dd",
        "id": "tQMrGDpxkCPn"
      },
      "execution_count": null,
      "outputs": [
        {
          "output_type": "stream",
          "name": "stdout",
          "text": [
            "Training Accuracy: 81.38%\n",
            "Testing Accuracy: 78.00%\n",
            "Precision score: 80.00%\n",
            "recall score: 69.57%\n"
          ]
        }
      ]
    },
    {
      "cell_type": "code",
      "source": [
        "# Preprocess the new review\n",
        "new_review = 'I love this place'\n",
        "new_review = re.sub('[^a-zA-Z]', ' ', new_review)\n",
        "new_review = new_review.lower()\n",
        "new_review = new_review.split()\n",
        "ps = PorterStemmer()\n",
        "all_stopwords = stopwords.words('english')\n",
        "all_stopwords.remove('not')\n",
        "new_review = [ps.stem(word) for word in new_review if word not in set(all_stopwords)]\n",
        "new_review = ' '.join(new_review)\n",
        "\n",
        "# Vectorize the new review using the same CountVectorizer used during training\n",
        "new_corpus = [new_review]\n",
        "new_X_test = cv.transform(new_corpus).toarray()\n",
        "\n",
        "# Predict sentiment using the trained model\n",
        "new_y_pred = model.predict(new_X_test)\n",
        "print(new_y_pred)"
      ],
      "metadata": {
        "colab": {
          "base_uri": "https://localhost:8080/"
        },
        "id": "j1lf2bhlYNwI",
        "outputId": "602d1421-eae5-4a3a-fd07-f1dc7282a4c8"
      },
      "execution_count": null,
      "outputs": [
        {
          "output_type": "stream",
          "name": "stdout",
          "text": [
            "[1]\n"
          ]
        }
      ]
    },
    {
      "cell_type": "markdown",
      "source": [
        "## **K-NEAREST NEIGHBOR MODEL**"
      ],
      "metadata": {
        "id": "RvyfSoWyf-He"
      }
    },
    {
      "cell_type": "markdown",
      "source": [
        "# Cleaning the data"
      ],
      "metadata": {
        "id": "iNWhZhnGXpFK"
      }
    },
    {
      "cell_type": "code",
      "source": [
        "import re\n",
        "import nltk\n",
        "nltk.download('stopwords')\n",
        "from nltk.corpus import stopwords\n",
        "from nltk.stem.porter import PorterStemmer\n",
        "corpus = []\n",
        "for i in range(0, 1000):\n",
        "    review = re.sub('[^a-zA-Z]', ' ', dataset['Review'][i])\n",
        "    review = review.lower()\n",
        "    review = review.split()\n",
        "    ps = PorterStemmer()\n",
        "    stop_words = stopwords.words('english')\n",
        "    review = [ps.stem(word) for word in review if not word in set(stop_words)]\n",
        "    review = ' '.join(review)\n",
        "    corpus.append(review)"
      ],
      "metadata": {
        "colab": {
          "base_uri": "https://localhost:8080/"
        },
        "id": "Nm4tUv_SW4lA",
        "outputId": "278a8ccc-d1e1-4ec5-cb41-3ddb6ce3ad1d"
      },
      "execution_count": 18,
      "outputs": [
        {
          "output_type": "stream",
          "name": "stderr",
          "text": [
            "[nltk_data] Downloading package stopwords to /root/nltk_data...\n",
            "[nltk_data]   Package stopwords is already up-to-date!\n"
          ]
        }
      ]
    },
    {
      "cell_type": "markdown",
      "source": [
        "# Creating the bag of words"
      ],
      "metadata": {
        "id": "hL9iFB8MQqd6"
      }
    },
    {
      "cell_type": "code",
      "source": [
        "from sklearn.feature_extraction.text import CountVectorizer\n",
        "cv = CountVectorizer(max_features = 200)\n",
        "X = cv.fit_transform(corpus).toarray()\n",
        "y = dataset.iloc[:, 1].values"
      ],
      "metadata": {
        "id": "UhiFcEuMQpUO"
      },
      "execution_count": 19,
      "outputs": []
    },
    {
      "cell_type": "markdown",
      "source": [
        "# Training the K-Nearest Neighbor on Training set"
      ],
      "metadata": {
        "id": "ncVV668dZ5yf"
      }
    },
    {
      "cell_type": "code",
      "source": [
        "from sklearn.model_selection import StratifiedKFold\n",
        "from sklearn.naive_bayes import GaussianNB\n",
        "from sklearn.metrics import accuracy_score\n",
        "\n",
        "classifier = GaussianNB()\n",
        "k_folds = 5  # You can adjust the number of folds\n",
        "CV = StratifiedKFold(n_splits=k_folds, shuffle=True, random_state=42)\n",
        "\n",
        "# Initialize variables to store best model and its corresponding scores\n",
        "best_model = None\n",
        "best_test_accuracy = 0\n",
        "best_train_accuracy = 0\n",
        "X_train, X_test, y_train, y_test = None, None, None, None\n",
        "# Perform cross-validation\n",
        "\n",
        "for train_idx, test_idx in CV.split(X, y):\n",
        "    X_train, X_test = X[train_idx], X[test_idx]\n",
        "    y_train, y_test = y[train_idx], y[test_idx]\n",
        "\n",
        "    #Create and fit the model\n",
        "    classifier.fit(X_train, y_train)\n",
        "    # Make predictions and evaluate accuracy for both training and test data\n",
        "    y_pred_test = classifier.predict(X_test)\n",
        "    test_accuracy = accuracy_score(y_test, y_pred_test)\n",
        "\n",
        "    y_pred_train = classifier.predict(X_train)\n",
        "    train_accuracy = accuracy_score(y_train, y_pred_train)\n",
        "\n",
        "    # Check if this model has the best test accuracy so far\n",
        "    if test_accuracy > best_test_accuracy:\n",
        "        best_test_accuracy = test_accuracy\n",
        "        best_train_accuracy = train_accuracy\n",
        "        X_train, X_test, y_train, y_test = X_train, X_test, y_train, y_test\n",
        "        best_model = classifier\n",
        "\n",
        "print(f\"Training Accuracy: {best_train_accuracy*100}%\")\n",
        "print(f\"Test Accuracy: {best_test_accuracy*100}%\")"
      ],
      "metadata": {
        "id": "ir8yUaiErQxo",
        "colab": {
          "base_uri": "https://localhost:8080/"
        },
        "outputId": "90ef4aef-d1f8-4b2e-dc70-c264b9f1bd82"
      },
      "execution_count": 20,
      "outputs": [
        {
          "output_type": "stream",
          "name": "stdout",
          "text": [
            "Training Accuracy: 72.5%\n",
            "Test Accuracy: 72.5%\n"
          ]
        }
      ]
    },
    {
      "cell_type": "markdown",
      "source": [
        "# Make Predictions on Training and Test sets"
      ],
      "metadata": {
        "id": "z028hlogWB_K"
      }
    },
    {
      "cell_type": "code",
      "source": [
        "# prediction on train set\n",
        "y_pred_train = best_model.predict(X_train)\n",
        "\n",
        "# prediction on test set\n",
        "y_pred_test = best_model.predict(X_test)"
      ],
      "metadata": {
        "id": "-eh7zKFDVqC-"
      },
      "execution_count": 21,
      "outputs": []
    },
    {
      "cell_type": "markdown",
      "source": [
        "# Making the confusion matrix"
      ],
      "metadata": {
        "id": "vr9QqSDo_-br"
      }
    },
    {
      "cell_type": "code",
      "execution_count": 22,
      "metadata": {
        "colab": {
          "base_uri": "https://localhost:8080/"
        },
        "id": "Xj9IU6MxDnvo",
        "outputId": "209ba0d5-8b55-4ca0-d33d-77222901e8cd"
      },
      "outputs": [
        {
          "output_type": "stream",
          "name": "stdout",
          "text": [
            "confusion matrix for training set:\n",
            " [[52 48]\n",
            " [ 7 93]]\n",
            "confusion matrix for testing set:\n",
            " [[191 209]\n",
            " [ 11 389]]\n",
            "Training accuracy: 72.5\n",
            "Testing accuracy: 72.5\n"
          ]
        }
      ],
      "source": [
        "from sklearn.metrics import confusion_matrix, accuracy_score\n",
        "\n",
        "# confusion matrix of y_test and y_pred_test\n",
        "cm = confusion_matrix(y_test, y_pred_test)\n",
        "\n",
        "# confusion matrix of y_train and y_pred_train\n",
        "cm_train = confusion_matrix(y_train, y_pred_train)\n",
        "\n",
        "print(\"confusion matrix for training set:\\n\", cm)\n",
        "print(\"confusion matrix for testing set:\\n\", cm_train)\n",
        "print(\"Training accuracy:\", accuracy_score(y_test, y_pred_test)*100)\n",
        "print(\"Testing accuracy:\", accuracy_score(y_train, y_pred_train)*100)"
      ]
    },
    {
      "cell_type": "code",
      "source": [
        "# preprocesses a new review\n",
        "new_review = 'this dish is bad'\n",
        "new_review = re.sub('[^a-zA-Z]', ' ', new_review)\n",
        "new_review = new_review.lower()\n",
        "new_review = new_review.split()\n",
        "ps = PorterStemmer()\n",
        "all_stopwords = stopwords.words('english')\n",
        "new_review = [ps.stem(word) for word in new_review if not word in set(all_stopwords)]\n",
        "new_review = ' '.join(new_review)\n",
        "new_corpus = [new_review]\n",
        "new_X_test = cv.transform(new_corpus).toarray()\n",
        "new_y_pred = best_model.predict(new_X_test)\n",
        "print(new_y_pred)"
      ],
      "metadata": {
        "colab": {
          "base_uri": "https://localhost:8080/"
        },
        "id": "UUq7i2OudUhR",
        "outputId": "df2fdce6-9442-497d-9ae2-a833040e67bd"
      },
      "execution_count": 24,
      "outputs": [
        {
          "output_type": "stream",
          "name": "stdout",
          "text": [
            "[0]\n"
          ]
        }
      ]
    },
    {
      "cell_type": "markdown",
      "source": [
        "# Visualization"
      ],
      "metadata": {
        "id": "gFOULDbg0aQ_"
      }
    },
    {
      "cell_type": "code",
      "source": [
        "\n",
        "plt.figure(figsize = (10, 5))\n",
        "sns.heatmap(cm, annot = True, cmap = \"BuPu\", xticklabels = ['Negative', 'Positive'], yticklabels = ['negative', 'Positive'])\n",
        "plt.xlabel('predicted value')\n",
        "plt.ylabel('actual value')"
      ],
      "metadata": {
        "colab": {
          "base_uri": "https://localhost:8080/",
          "height": 482
        },
        "id": "Tlhhl_3IsvCi",
        "outputId": "c5248b48-02c8-47c3-febb-10ab43f14ce4"
      },
      "execution_count": null,
      "outputs": [
        {
          "output_type": "execute_result",
          "data": {
            "text/plain": [
              "Text(95.72222222222221, 0.5, 'actual value')"
            ]
          },
          "metadata": {},
          "execution_count": 65
        },
        {
          "output_type": "display_data",
          "data": {
            "text/plain": [
              "<Figure size 1000x500 with 2 Axes>"
            ],
            "image/png": "[encoded data removed]"
          },
          "metadata": {}
        }
      ]
    },
    {
      "cell_type": "code",
      "source": [
        "plt.figure(figsize = (6, 3))\n",
        "sns.heatmap(cm_train, annot = True, cmap = \"BuPu\", xticklabels = ['Negative', 'Positive'], yticklabels = ['negative', 'Positive'])\n",
        "plt.xlabel('predicted value')\n",
        "plt.ylabel('actual value')"
      ],
      "metadata": {
        "colab": {
          "base_uri": "https://localhost:8080/",
          "height": 328
        },
        "id": "YuTxUztq0uhC",
        "outputId": "05b0a2a5-c3ed-4057-9d34-1a0572e1ef22"
      },
      "execution_count": null,
      "outputs": [
        {
          "output_type": "execute_result",
          "data": {
            "text/plain": [
              "Text(45.722222222222214, 0.5, 'actual value')"
            ]
          },
          "metadata": {},
          "execution_count": 66
        },
        {
          "output_type": "display_data",
          "data": {
            "text/plain": [
              "<Figure size 600x300 with 2 Axes>"
            ],
            "image/png": "[encoded data removed]"
          },
          "metadata": {}
        }
      ]
    }
  ],
  "metadata": {
    "colab": {
      "provenance": []
    },
    "kernelspec": {
      "display_name": "Python 3",
      "language": "python",
      "name": "python3"
    },
    "language_info": {
      "codemirror_mode": {
        "name": "ipython",
        "version": 3
      },
      "file_extension": ".py",
      "mimetype": "text/x-python",
      "name": "python",
      "nbconvert_exporter": "python",
      "pygments_lexer": "ipython3",
      "version": "3.7.4"
    }
  },
  "nbformat": 4,
  "nbformat_minor": 0
}